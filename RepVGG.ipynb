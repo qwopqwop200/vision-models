{
 "cells": [
  {
   "cell_type": "code",
   "execution_count": 1,
   "metadata": {},
   "outputs": [],
   "source": [
    "import tensorflow as tf\n",
    "from tensorflow import keras\n",
    "from tensorflow.keras import layers \n",
    "import numpy as np"
   ]
  },
  {
   "cell_type": "code",
   "execution_count": 2,
   "metadata": {},
   "outputs": [],
   "source": [
    "class RepVGGBlock(layers.Layer):\n",
    "    def __init__(self, in_channels,out_channels,stride=1,groups=1,deploy=False):\n",
    "        super(RepVGGBlock, self).__init__()\n",
    "        self.in_channels = in_channels\n",
    "        self.groups = groups\n",
    "        self.stride = stride\n",
    "        self.act = layers.ReLU()\n",
    "        if deploy:\n",
    "            self.rbr_reparam = layers.Conv2D(out_channels,3, stride,'SAME',use_bias=True,groups=groups)\n",
    "        else:\n",
    "            self.rbr_identity = layers.BatchNormalization() if out_channels == in_channels and stride == 1 else None\n",
    "            self.rbr_3x3 = keras.Sequential([layers.Conv2D(out_channels, 3,stride,'SAME',groups=groups,use_bias=False),layers.BatchNormalization()])\n",
    "            self.rbr_1x1 = keras.Sequential([layers.Conv2D(out_channels, 1,stride,'SAME',groups=groups,use_bias=False),layers.BatchNormalization()])\n",
    "\n",
    "    def call(self, x):\n",
    "        if hasattr(self, 'rbr_reparam'):\n",
    "            return self.act(self.rbr_reparam(x))\n",
    "        id_out = 0 if self.rbr_identity is None else self.rbr_identity(x) \n",
    "        return self.act(self.rbr_3x3(x) + self.rbr_1x1(x) + id_out)\n",
    "    \n",
    "    def get_equivalent_kernel_bias(self):\n",
    "        kernel3x3, bias3x3 = self.fuse_bn_tensor(self.rbr_3x3)\n",
    "        kernel1x1, bias1x1 = self.fuse_bn_tensor(self.rbr_1x1)\n",
    "        kernelid, biasid = self.fuse_bn_tensor(self.rbr_identity)     \n",
    "        return [kernel3x3 + self.pad_1x1_to_3x3_tensor(kernel1x1) + kernelid, bias3x3 + bias1x1 + biasid]\n",
    "\n",
    "    def pad_1x1_to_3x3_tensor(self, kernel1x1):\n",
    "        return tf.pad(kernel1x1,[[2-(self.stride%3), (self.stride)%3],[2-(self.stride%3), (self.stride)%3],[0,0],[0,0]])\n",
    "\n",
    "    def fuse_bn_tensor(self, branch):\n",
    "        if branch is None:\n",
    "            return 0, 0\n",
    "        if isinstance(branch,keras.Sequential):\n",
    "            kernel = branch.layers[0].kernel\n",
    "            moving_mean = branch.layers[1].moving_mean\n",
    "            moving_variance = branch.layers[1].moving_variance\n",
    "            gamma = branch.layers[1].gamma\n",
    "            beta = branch.layers[1].beta\n",
    "            eps = branch.layers[1].epsilon\n",
    "        else:\n",
    "            input_dim = self.in_channels // self.groups\n",
    "            kernel = np.zeros((3, 3,input_dim,self.in_channels), dtype=np.float32)\n",
    "            for i in range(self.in_channels):\n",
    "                kernel[1, 1,i % input_dim,i] = 1\n",
    "            moving_mean = branch.moving_mean\n",
    "            moving_variance = branch.moving_variance\n",
    "            gamma = branch.gamma\n",
    "            beta = branch.beta\n",
    "            eps = branch.epsilon\n",
    "        inv = (tf.math.rsqrt(moving_variance + eps)* gamma)\n",
    "        return kernel*inv,beta - moving_mean * inv"
   ]
  },
  {
   "cell_type": "code",
   "execution_count": 3,
   "metadata": {},
   "outputs": [],
   "source": [
    "def make_RepVGG(num_blocks, num_classes=1000, width_multiplier=None, override_groups_map=None, deploy=False):\n",
    "    def stage(in_planes,planes, num_blocks, stride,override_groups_map,cur_layer_idx,deploy,x):\n",
    "        strides = [stride] + [1]*(num_blocks-1)\n",
    "        for stride in strides:\n",
    "            cur_groups = override_groups_map.get(cur_layer_idx, 1)\n",
    "            x = RepVGGBlock(in_planes, planes,stride,groups=cur_groups, deploy=deploy)(x)\n",
    "            in_planes = planes\n",
    "        return x,in_planes\n",
    "    \n",
    "    override_groups_map = override_groups_map or dict()\n",
    "    in_planes = min(64, int(64 * width_multiplier[0]))\n",
    "    \n",
    "    input_x = layers.Input((None,None,3))\n",
    "    x = RepVGGBlock(3, in_planes, 2, deploy=deploy)(input_x)\n",
    "    for i in range(len(num_blocks)):\n",
    "        x,in_planes = stage(in_planes,int((64*(2**i))*width_multiplier[i]), num_blocks[i], 2,override_groups_map,i+1,deploy,x)\n",
    "    x = layers.GlobalAvgPool2D()(x)\n",
    "    x = layers.Dense(num_classes,activation='softmax')(x)\n",
    "    return keras.Model(input_x,x)"
   ]
  },
  {
   "cell_type": "code",
   "execution_count": 4,
   "metadata": {},
   "outputs": [],
   "source": [
    "def repvgg_model_convert(model,deploy_model):\n",
    "    i = 1\n",
    "    while isinstance(model.get_layer(index = i),RepVGGBlock):\n",
    "        deploy_model.layers[i].set_weights(model.layers[i].get_equivalent_kernel_bias())\n",
    "        i+=1\n",
    "    deploy_model.layers[i+1].set_weights([model.layers[i+1].kernel.numpy(),model.layers[i+1].bias.numpy()])"
   ]
  },
  {
   "cell_type": "code",
   "execution_count": 5,
   "metadata": {},
   "outputs": [],
   "source": [
    "def get_RepVGG_func_by_name(name,numclass=1000,deploy=False):\n",
    "    def create_RepVGG_A0(numclass=1000,deploy=False):\n",
    "        return make_RepVGG([2, 4, 14, 1], numclass,[0.75, 0.75, 0.75, 2.5], None, deploy)\n",
    "\n",
    "    def create_RepVGG_A1(numclass=1000,deploy=False):\n",
    "        return make_RepVGG([2, 4, 14, 1], numclass,[1, 1, 1, 2.5], None, deploy)\n",
    "\n",
    "    def create_RepVGG_A2(numclass=1000,deploy=False):\n",
    "        return make_RepVGG([2, 4, 14, 1], numclass,[1.5, 1.5, 1.5, 2.75], None, deploy)\n",
    "\n",
    "    def create_RepVGG_B0(numclass=1000,deploy=False):\n",
    "        return make_RepVGG([4, 6, 16, 1], numclass,[1, 1, 1, 2.5], None, deploy)\n",
    "\n",
    "    def create_RepVGG_B1(numclass=1000,deploy=False):\n",
    "        return make_RepVGG([4, 6, 16, 1], numclass,[2, 2, 2, 4], None, deploy)\n",
    "\n",
    "    def create_RepVGG_B1g2(numclass=1000,deploy=False):\n",
    "        return make_RepVGG([4, 6, 16, 1], numclass,[2, 2, 2, 4], g2_map, deploy)\n",
    "\n",
    "    def create_RepVGG_B1g4(numclass=1000,deploy=False):\n",
    "        return make_RepVGG([4, 6, 16, 1], numclass,[2, 2, 2, 4], g4_map, deploy)\n",
    "\n",
    "    def create_RepVGG_B2(numclass=1000,deploy=False):\n",
    "        return make_RepVGG([4, 6, 16, 1], numclass,[2.5, 2.5, 2.5, 5], None,deploy)\n",
    "\n",
    "    def create_RepVGG_B2g2(numclass=1000,deploy=False):\n",
    "        return make_RepVGG([4, 6, 16, 1], numclass,[2.5, 2.5, 2.5, 5], g2_map, deploy)\n",
    "\n",
    "    def create_RepVGG_B2g4(numclass=1000,deploy=False):\n",
    "        return make_RepVGG([4, 6, 16, 1], numclass,[2.5, 2.5, 2.5, 5], g4_map, deploy)\n",
    "\n",
    "    def create_RepVGG_B3(numclass=1000,deploy=False):\n",
    "        return make_RepVGG([4, 6, 16, 1], numclass,[3, 3, 3, 5], None, deploy)\n",
    "\n",
    "    def create_RepVGG_B3g2(numclass=1000,deploy=False):\n",
    "        return make_RepVGG([4, 6, 16, 1], numclass,[3, 3, 3, 5], g2_map, deploy)\n",
    "\n",
    "    def create_RepVGG_B3g4(numclass=1000,deploy=False):\n",
    "        return make_RepVGG([4, 6, 16, 1], numclass,[3, 3, 3, 5], g4_map, deploy)\n",
    "\n",
    "    optional_groupwise_layers = [2, 4, 6, 8, 10, 12, 14, 16, 18, 20, 22, 24, 26]\n",
    "    g2_map = {l: 2 for l in optional_groupwise_layers}\n",
    "    g4_map = {l: 4 for l in optional_groupwise_layers}\n",
    "\n",
    "    func_dict = {'RepVGG-A0': create_RepVGG_A0,\n",
    "                 'RepVGG-A1': create_RepVGG_A1,\n",
    "                 'RepVGG-A2': create_RepVGG_A2,\n",
    "                 'RepVGG-B0': create_RepVGG_B0,\n",
    "                 'RepVGG-B1': create_RepVGG_B1,\n",
    "                 'RepVGG-B1g2': create_RepVGG_B1g2,\n",
    "                 'RepVGG-B1g4': create_RepVGG_B1g4,\n",
    "                 'RepVGG-B2': create_RepVGG_B2,\n",
    "                 'RepVGG-B2g2': create_RepVGG_B2g2,\n",
    "                 'RepVGG-B2g4': create_RepVGG_B2g4,\n",
    "                 'RepVGG-B3': create_RepVGG_B3,\n",
    "                 'RepVGG-B3g2': create_RepVGG_B3g2,\n",
    "                 'RepVGG-B3g4': create_RepVGG_B3g4}\n",
    "    return func_dict[name](numclass,deploy)"
   ]
  },
  {
   "cell_type": "code",
   "execution_count": 6,
   "metadata": {},
   "outputs": [],
   "source": [
    "model = get_RepVGG_func_by_name('RepVGG-B1g2',10,False)\n",
    "deploy_model = get_RepVGG_func_by_name('RepVGG-B1g2',10,True)"
   ]
  },
  {
   "cell_type": "code",
   "execution_count": 7,
   "metadata": {},
   "outputs": [],
   "source": [
    "((x_train,y_train),(x_test,y_test)) = keras.datasets.cifar10.load_data()\n",
    "x_train,x_test = x_train/255,x_test/255"
   ]
  },
  {
   "cell_type": "code",
   "execution_count": 8,
   "metadata": {},
   "outputs": [],
   "source": [
    "model.compile('adam',keras.losses.SparseCategoricalCrossentropy(),keras.metrics.sparse_categorical_accuracy)\n",
    "deploy_model.compile('adam',keras.losses.SparseCategoricalCrossentropy(),keras.metrics.sparse_categorical_accuracy)"
   ]
  },
  {
   "cell_type": "code",
   "execution_count": 9,
   "metadata": {},
   "outputs": [
    {
     "name": "stdout",
     "output_type": "stream",
     "text": [
      "  2/782 [..............................] - ETA: 1:19 - loss: 4.8147 - sparse_categorical_accuracy: 0.0781WARNING:tensorflow:Callbacks method `on_train_batch_end` is slow compared to the batch time (batch time: 0.0619s vs `on_train_batch_end` time: 0.1391s). Check your callbacks.\n",
      "782/782 [==============================] - 160s 204ms/step - loss: 1.6655 - sparse_categorical_accuracy: 0.4169\n"
     ]
    },
    {
     "data": {
      "text/plain": [
       "<tensorflow.python.keras.callbacks.History at 0x1dae24a05c8>"
      ]
     },
     "execution_count": 9,
     "metadata": {},
     "output_type": "execute_result"
    }
   ],
   "source": [
    "model.fit(x_train,y_train,batch_size=64,epochs=1)"
   ]
  },
  {
   "cell_type": "code",
   "execution_count": 10,
   "metadata": {},
   "outputs": [],
   "source": [
    "repvgg_model_convert(model,deploy_model)"
   ]
  },
  {
   "cell_type": "code",
   "execution_count": 11,
   "metadata": {},
   "outputs": [
    {
     "name": "stdout",
     "output_type": "stream",
     "text": [
      "313/313 [==============================] - 11s 35ms/step - loss: 1.4816 - sparse_categorical_accuracy: 0.4797\n",
      "313/313 [==============================] - 8s 27ms/step - loss: 1.4816 - sparse_categorical_accuracy: 0.4797: 2s - \n"
     ]
    },
    {
     "data": {
      "text/plain": [
       "[1.4816360473632812, 0.4796999990940094]"
      ]
     },
     "execution_count": 11,
     "metadata": {},
     "output_type": "execute_result"
    }
   ],
   "source": [
    "model.evaluate(x_test,y_test)\n",
    "deploy_model.evaluate(x_test,y_test)"
   ]
  }
 ],
 "metadata": {
  "kernelspec": {
   "display_name": "Python 3",
   "language": "python",
   "name": "python3"
  },
  "language_info": {
   "codemirror_mode": {
    "name": "ipython",
    "version": 3
   },
   "file_extension": ".py",
   "mimetype": "text/x-python",
   "name": "python",
   "nbconvert_exporter": "python",
   "pygments_lexer": "ipython3",
   "version": "3.7.7"
  }
 },
 "nbformat": 4,
 "nbformat_minor": 4
}
