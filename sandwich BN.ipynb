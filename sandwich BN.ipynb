{
 "cells": [
  {
   "cell_type": "code",
   "execution_count": 1,
   "metadata": {},
   "outputs": [],
   "source": [
    "import torch\n",
    "import torch.nn as nn\n",
    "\n",
    "class SandwichBatchNorm2d(nn.Module):\n",
    "    def __init__(self, num_features, num_classes):\n",
    "        super().__init__()\n",
    "        self.num_features = num_features\n",
    "        self.bn = nn.BatchNorm2d(num_features, affine=True)\n",
    "        self.embed = nn.Embedding(num_classes, num_features * 2)\n",
    "        self.embed.weight.data[:, :num_features].normal_(1, 0.02)\n",
    "        self.embed.weight.data[:, num_features:].zero_()\n",
    "\n",
    "    def forward(self, x, y):\n",
    "        out = self.bn(x)\n",
    "        gamma, beta = self.embed(y).chunk(2, 1)\n",
    "        out = gamma.view(-1, self.num_features, 1, 1) * out + beta.view(-1, self.num_features, 1, 1)\n",
    "        return out"
   ]
  },
  {
   "cell_type": "code",
   "execution_count": 12,
   "metadata": {},
   "outputs": [],
   "source": [
    "import tensorflow as tf\n",
    "from tensorflow import keras\n",
    "from tensorflow.keras import layers\n",
    "\n",
    "class SandwichBatchNorm(layers.Layer):\n",
    "    def __init__(self, num_features, num_classes):\n",
    "        super().__init__()\n",
    "        self.num_features = num_features\n",
    "        self.bn = layers.BatchNormalization()\n",
    "        self.embed = layers.Embedding(num_classes, num_features * 2,keras.initializers.random_normal(1,0.02))\n",
    "        self.embed.build(None)\n",
    "        weight = self.embed.get_weights()\n",
    "        weight[0][:,num_features:] = 0\n",
    "        self.embed.set_weights(weight)\n",
    "\n",
    "    def call(self, x, y):\n",
    "        out = self.bn(x)\n",
    "        gamma, beta = tf.split(self.embed(y),2, 1)\n",
    "        out = tf.reshape(gamma,(-1, 1, 1, self.num_features)) * out + tf.reshape(beta,(-1, 1, 1, self.num_features))\n",
    "        return out"
   ]
  },
  {
   "cell_type": "code",
   "execution_count": 13,
   "metadata": {},
   "outputs": [],
   "source": [
    "class ConvBlock(keras.Model):\n",
    "    def __init__(self,c,nc,k=3,s=1):\n",
    "        super().__init__()\n",
    "        self.conv1 = layers.Conv2D(c,k,s,padding='same',use_bias=False)\n",
    "        self.bn1 = SandwichBatchNorm(c,nc)\n",
    "    def call(self,x,y):\n",
    "        x = self.conv1(x)\n",
    "        x = self.bn1(x,y)\n",
    "        return tf.nn.relu(x)            \n",
    "\n",
    "class BottleNeck(keras.Model):\n",
    "    def __init__(self, dim1, dim2,nc,strides=1):\n",
    "        super().__init__()        \n",
    "        self.conv1 = ConvBlock(dim1,nc,1)\n",
    "        self.conv2 = ConvBlock(dim1,nc,3,strides)\n",
    "        self.conv3 = ConvBlock(dim2,nc,1)\n",
    "        self.downsample_conv = ConvBlock(dim2,nc,3,strides)\n",
    "\n",
    "    def call(self, x,y):\n",
    "        out = self.conv1(x,y)\n",
    "        out = self.conv2(out,y)\n",
    "        out = self.conv3(out,y)\n",
    "        if x.shape[3] != out.shape[3]:\n",
    "            x = self.downsample_conv(x,y)\n",
    "        return tf.nn.relu(out + x)    \n",
    "    \n",
    "class ResidualBlock(keras.Model):\n",
    "    def __init__(self, num_bottlenecks, dim1, dim2,nc, strides=1):\n",
    "        super().__init__()\n",
    "        self.bottlenecks = [BottleNeck(dim1, dim2,nc,strides=strides)]\n",
    "        for idx in range(1, num_bottlenecks):\n",
    "            self.bottlenecks.append(BottleNeck(dim1, dim2,nc))\n",
    "\n",
    "    def call(self, x,y):\n",
    "        for btn in self.bottlenecks:\n",
    "            x = btn(x,y)\n",
    "        return x\n",
    "\n",
    "def make_ResNetwithSBN(num_classes):\n",
    "    x_input =layers.Input((None,None,3))\n",
    "    y = layers.Input((num_classes))\n",
    "    x = ConvBlock(64,num_classes,7,2)(x_input,y)\n",
    "    x = layers.MaxPool2D(pool_size=3, strides=2,padding='same')(x)\n",
    "    x = ResidualBlock(num_bottlenecks=3, dim1=64, dim2=128,nc=num_classes,strides=1,)(x,y)\n",
    "    x = ResidualBlock(num_bottlenecks=4, dim1=128, dim2=256,nc=num_classes, strides=2)(x,y)\n",
    "    x = ResidualBlock(num_bottlenecks=6, dim1=256, dim2=512,nc=num_classes, strides=2)(x,y)\n",
    "    x = ResidualBlock(num_bottlenecks=3, dim1=512, dim2=1024,nc=num_classes, strides=2)(x,y)\n",
    "    x = layers.GlobalAveragePooling2D()(x)\n",
    "    x = layers.Dense(num_classes)(x)\n",
    "    return keras.Model([x_input,y],x)"
   ]
  },
  {
   "cell_type": "code",
   "execution_count": 29,
   "metadata": {},
   "outputs": [],
   "source": [
    "num_classes = 10\n",
    "model = make_ResNetwithSBN(num_classes)"
   ]
  },
  {
   "cell_type": "code",
   "execution_count": 30,
   "metadata": {},
   "outputs": [
    {
     "data": {
      "text/plain": [
       "<tf.Tensor: shape=(10, 10), dtype=float32, numpy=\n",
       "array([[0., 0., 0., 0., 0., 0., 0., 0., 0., 0.],\n",
       "       [0., 0., 0., 0., 0., 0., 0., 0., 0., 0.],\n",
       "       [0., 0., 0., 0., 0., 0., 0., 0., 0., 0.],\n",
       "       [0., 0., 0., 0., 0., 0., 0., 0., 0., 0.],\n",
       "       [0., 0., 0., 0., 0., 0., 0., 0., 0., 0.],\n",
       "       [0., 0., 0., 0., 0., 0., 0., 0., 0., 0.],\n",
       "       [0., 0., 0., 0., 0., 0., 0., 0., 0., 0.],\n",
       "       [0., 0., 0., 0., 0., 0., 0., 0., 0., 0.],\n",
       "       [0., 0., 0., 0., 0., 0., 0., 0., 0., 0.],\n",
       "       [0., 0., 0., 0., 0., 0., 0., 0., 0., 0.]], dtype=float32)>"
      ]
     },
     "execution_count": 30,
     "metadata": {},
     "output_type": "execute_result"
    }
   ],
   "source": [
    "image = tf.zeros((10,224,224,3))\n",
    "model([image,tf.experimental.numpy.random.randint(0,num_classes,(image.shape[0]))])"
   ]
  },
  {
   "cell_type": "code",
   "execution_count": null,
   "metadata": {},
   "outputs": [],
   "source": []
  }
 ],
 "metadata": {
  "kernelspec": {
   "display_name": "Python 3",
   "language": "python",
   "name": "python3"
  },
  "language_info": {
   "codemirror_mode": {
    "name": "ipython",
    "version": 3
   },
   "file_extension": ".py",
   "mimetype": "text/x-python",
   "name": "python",
   "nbconvert_exporter": "python",
   "pygments_lexer": "ipython3",
   "version": "3.7.7"
  }
 },
 "nbformat": 4,
 "nbformat_minor": 4
}
